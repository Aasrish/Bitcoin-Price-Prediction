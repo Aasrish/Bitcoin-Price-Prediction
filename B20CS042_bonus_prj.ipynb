{
  "nbformat": 4,
  "nbformat_minor": 0,
  "metadata": {
    "colab": {
      "name": "B20CS042_bonus_prj.ipynb",
      "provenance": [],
      "collapsed_sections": []
    },
    "kernelspec": {
      "name": "python3",
      "display_name": "Python 3"
    },
    "language_info": {
      "name": "python"
    }
  },
  "cells": [
    {
      "cell_type": "code",
      "execution_count": null,
      "metadata": {
        "id": "2K5JoNW5LDz_"
      },
      "outputs": [],
      "source": [
        "import pandas as pd\n",
        "import numpy as np\n",
        "import matplotlib.pyplot as plt\n",
        "import seaborn as sns\n",
        "sns.set_style(\"darkgrid\")"
      ]
    },
    {
      "cell_type": "code",
      "source": [
        "from sklearn.metrics import accuracy_score, precision_score, recall_score, f1_score, confusion_matrix\n",
        "from sklearn.metrics import plot_roc_curve, plot_confusion_matrix,classification_report\n",
        "from sklearn.model_selection import cross_val_score\n",
        "from sklearn.metrics import mean_squared_error"
      ],
      "metadata": {
        "id": "mvks_mN9tNw3"
      },
      "execution_count": null,
      "outputs": []
    },
    {
      "cell_type": "code",
      "source": [
        "data = pd.read_csv(\"/content/drive/MyDrive/Colab Notebooks/Copy of bitcoin_price_bitcoin_price.2013Apr-2017Aug.csv\")"
      ],
      "metadata": {
        "id": "Y2Ks7p59LqAo"
      },
      "execution_count": null,
      "outputs": []
    },
    {
      "cell_type": "code",
      "source": [
        "data.head()"
      ],
      "metadata": {
        "colab": {
          "base_uri": "https://localhost:8080/",
          "height": 206
        },
        "id": "EhbVmD8bLul-",
        "outputId": "b2978ce7-ff2f-40dd-9b62-e3702baaf110"
      },
      "execution_count": null,
      "outputs": [
        {
          "output_type": "execute_result",
          "data": {
            "text/plain": [
              "   Open  High  Low    Close  Volume  Market Cap  close_pred\n",
              "0   300   296  312     0.00     108         291        36.0\n",
              "1   296   284  301  2875.34      97         287        35.0\n",
              "2   301   290  309  2757.18     106         293        35.0\n",
              "3   290   297  307  2726.45     150         283        36.0\n",
              "4   278   282  293  2809.01     104         272        34.0"
            ],
            "text/html": [
              "\n",
              "  <div id=\"df-f266bb03-d928-4f5b-a75d-f75ba397515c\">\n",
              "    <div class=\"colab-df-container\">\n",
              "      <div>\n",
              "<style scoped>\n",
              "    .dataframe tbody tr th:only-of-type {\n",
              "        vertical-align: middle;\n",
              "    }\n",
              "\n",
              "    .dataframe tbody tr th {\n",
              "        vertical-align: top;\n",
              "    }\n",
              "\n",
              "    .dataframe thead th {\n",
              "        text-align: right;\n",
              "    }\n",
              "</style>\n",
              "<table border=\"1\" class=\"dataframe\">\n",
              "  <thead>\n",
              "    <tr style=\"text-align: right;\">\n",
              "      <th></th>\n",
              "      <th>Open</th>\n",
              "      <th>High</th>\n",
              "      <th>Low</th>\n",
              "      <th>Close</th>\n",
              "      <th>Volume</th>\n",
              "      <th>Market Cap</th>\n",
              "      <th>close_pred</th>\n",
              "    </tr>\n",
              "  </thead>\n",
              "  <tbody>\n",
              "    <tr>\n",
              "      <th>0</th>\n",
              "      <td>300</td>\n",
              "      <td>296</td>\n",
              "      <td>312</td>\n",
              "      <td>0.00</td>\n",
              "      <td>108</td>\n",
              "      <td>291</td>\n",
              "      <td>36.0</td>\n",
              "    </tr>\n",
              "    <tr>\n",
              "      <th>1</th>\n",
              "      <td>296</td>\n",
              "      <td>284</td>\n",
              "      <td>301</td>\n",
              "      <td>2875.34</td>\n",
              "      <td>97</td>\n",
              "      <td>287</td>\n",
              "      <td>35.0</td>\n",
              "    </tr>\n",
              "    <tr>\n",
              "      <th>2</th>\n",
              "      <td>301</td>\n",
              "      <td>290</td>\n",
              "      <td>309</td>\n",
              "      <td>2757.18</td>\n",
              "      <td>106</td>\n",
              "      <td>293</td>\n",
              "      <td>35.0</td>\n",
              "    </tr>\n",
              "    <tr>\n",
              "      <th>3</th>\n",
              "      <td>290</td>\n",
              "      <td>297</td>\n",
              "      <td>307</td>\n",
              "      <td>2726.45</td>\n",
              "      <td>150</td>\n",
              "      <td>283</td>\n",
              "      <td>36.0</td>\n",
              "    </tr>\n",
              "    <tr>\n",
              "      <th>4</th>\n",
              "      <td>278</td>\n",
              "      <td>282</td>\n",
              "      <td>293</td>\n",
              "      <td>2809.01</td>\n",
              "      <td>104</td>\n",
              "      <td>272</td>\n",
              "      <td>34.0</td>\n",
              "    </tr>\n",
              "  </tbody>\n",
              "</table>\n",
              "</div>\n",
              "      <button class=\"colab-df-convert\" onclick=\"convertToInteractive('df-f266bb03-d928-4f5b-a75d-f75ba397515c')\"\n",
              "              title=\"Convert this dataframe to an interactive table.\"\n",
              "              style=\"display:none;\">\n",
              "        \n",
              "  <svg xmlns=\"http://www.w3.org/2000/svg\" height=\"24px\"viewBox=\"0 0 24 24\"\n",
              "       width=\"24px\">\n",
              "    <path d=\"M0 0h24v24H0V0z\" fill=\"none\"/>\n",
              "    <path d=\"M18.56 5.44l.94 2.06.94-2.06 2.06-.94-2.06-.94-.94-2.06-.94 2.06-2.06.94zm-11 1L8.5 8.5l.94-2.06 2.06-.94-2.06-.94L8.5 2.5l-.94 2.06-2.06.94zm10 10l.94 2.06.94-2.06 2.06-.94-2.06-.94-.94-2.06-.94 2.06-2.06.94z\"/><path d=\"M17.41 7.96l-1.37-1.37c-.4-.4-.92-.59-1.43-.59-.52 0-1.04.2-1.43.59L10.3 9.45l-7.72 7.72c-.78.78-.78 2.05 0 2.83L4 21.41c.39.39.9.59 1.41.59.51 0 1.02-.2 1.41-.59l7.78-7.78 2.81-2.81c.8-.78.8-2.07 0-2.86zM5.41 20L4 18.59l7.72-7.72 1.47 1.35L5.41 20z\"/>\n",
              "  </svg>\n",
              "      </button>\n",
              "      \n",
              "  <style>\n",
              "    .colab-df-container {\n",
              "      display:flex;\n",
              "      flex-wrap:wrap;\n",
              "      gap: 12px;\n",
              "    }\n",
              "\n",
              "    .colab-df-convert {\n",
              "      background-color: #E8F0FE;\n",
              "      border: none;\n",
              "      border-radius: 50%;\n",
              "      cursor: pointer;\n",
              "      display: none;\n",
              "      fill: #1967D2;\n",
              "      height: 32px;\n",
              "      padding: 0 0 0 0;\n",
              "      width: 32px;\n",
              "    }\n",
              "\n",
              "    .colab-df-convert:hover {\n",
              "      background-color: #E2EBFA;\n",
              "      box-shadow: 0px 1px 2px rgba(60, 64, 67, 0.3), 0px 1px 3px 1px rgba(60, 64, 67, 0.15);\n",
              "      fill: #174EA6;\n",
              "    }\n",
              "\n",
              "    [theme=dark] .colab-df-convert {\n",
              "      background-color: #3B4455;\n",
              "      fill: #D2E3FC;\n",
              "    }\n",
              "\n",
              "    [theme=dark] .colab-df-convert:hover {\n",
              "      background-color: #434B5C;\n",
              "      box-shadow: 0px 1px 3px 1px rgba(0, 0, 0, 0.15);\n",
              "      filter: drop-shadow(0px 1px 2px rgba(0, 0, 0, 0.3));\n",
              "      fill: #FFFFFF;\n",
              "    }\n",
              "  </style>\n",
              "\n",
              "      <script>\n",
              "        const buttonEl =\n",
              "          document.querySelector('#df-f266bb03-d928-4f5b-a75d-f75ba397515c button.colab-df-convert');\n",
              "        buttonEl.style.display =\n",
              "          google.colab.kernel.accessAllowed ? 'block' : 'none';\n",
              "\n",
              "        async function convertToInteractive(key) {\n",
              "          const element = document.querySelector('#df-f266bb03-d928-4f5b-a75d-f75ba397515c');\n",
              "          const dataTable =\n",
              "            await google.colab.kernel.invokeFunction('convertToInteractive',\n",
              "                                                     [key], {});\n",
              "          if (!dataTable) return;\n",
              "\n",
              "          const docLinkHtml = 'Like what you see? Visit the ' +\n",
              "            '<a target=\"_blank\" href=https://colab.research.google.com/notebooks/data_table.ipynb>data table notebook</a>'\n",
              "            + ' to learn more about interactive tables.';\n",
              "          element.innerHTML = '';\n",
              "          dataTable['output_type'] = 'display_data';\n",
              "          await google.colab.output.renderOutput(dataTable, element);\n",
              "          const docLink = document.createElement('div');\n",
              "          docLink.innerHTML = docLinkHtml;\n",
              "          element.appendChild(docLink);\n",
              "        }\n",
              "      </script>\n",
              "    </div>\n",
              "  </div>\n",
              "  "
            ]
          },
          "metadata": {},
          "execution_count": 785
        }
      ]
    },
    {
      "cell_type": "code",
      "source": [
        "data.isnull().sum()"
      ],
      "metadata": {
        "colab": {
          "base_uri": "https://localhost:8080/"
        },
        "id": "Rn1KrJ8SOTtb",
        "outputId": "546cf723-eae9-4a7d-e891-25a51a29fe56"
      },
      "execution_count": null,
      "outputs": [
        {
          "output_type": "execute_result",
          "data": {
            "text/plain": [
              "Date          0\n",
              "Open          0\n",
              "High          0\n",
              "Low           0\n",
              "Close         0\n",
              "Volume        0\n",
              "Market Cap    0\n",
              "dtype: int64"
            ]
          },
          "metadata": {},
          "execution_count": 678
        }
      ]
    },
    {
      "cell_type": "markdown",
      "source": [
        "Checking Unique Value count in data[\"Close\"]"
      ],
      "metadata": {
        "id": "CjkVLU1T1T7h"
      }
    },
    {
      "cell_type": "code",
      "source": [
        "print(len(data['Close']))\n",
        "print(len(data['Close'].unique()))"
      ],
      "metadata": {
        "colab": {
          "base_uri": "https://localhost:8080/"
        },
        "id": "Ap3sM5DrOYnL",
        "outputId": "303e9485-074e-40b1-c4bc-dfb826ae726e"
      },
      "execution_count": null,
      "outputs": [
        {
          "output_type": "stream",
          "name": "stdout",
          "text": [
            "1556\n",
            "1529\n"
          ]
        }
      ]
    },
    {
      "cell_type": "code",
      "source": [
        "import math"
      ],
      "metadata": {
        "id": "R92R3OnJOvAt"
      },
      "execution_count": null,
      "outputs": []
    },
    {
      "cell_type": "markdown",
      "source": [
        "Converteing data[\"Close\"] to a catogorical data"
      ],
      "metadata": {
        "id": "o7Kgivph1cZd"
      }
    },
    {
      "cell_type": "code",
      "source": [
        "data['close_pred'] = pd.Series(dtype='int')\n",
        "for i in range(len(data)):\n",
        "  data[\"close_pred\"][i] = math.ceil(data[\"Close\"][i]/80)"
      ],
      "metadata": {
        "colab": {
          "base_uri": "https://localhost:8080/"
        },
        "id": "bxtQjnc1U1Br",
        "outputId": "10f4bea5-ba03-45c0-ec89-55a2bb578ee0"
      },
      "execution_count": null,
      "outputs": [
        {
          "output_type": "stream",
          "name": "stderr",
          "text": [
            "/usr/local/lib/python3.7/dist-packages/ipykernel_launcher.py:3: SettingWithCopyWarning: \n",
            "A value is trying to be set on a copy of a slice from a DataFrame\n",
            "\n",
            "See the caveats in the documentation: https://pandas.pydata.org/pandas-docs/stable/user_guide/indexing.html#returning-a-view-versus-a-copy\n",
            "  This is separate from the ipykernel package so we can avoid doing imports until\n"
          ]
        }
      ]
    },
    {
      "cell_type": "code",
      "source": [
        "data.info()"
      ],
      "metadata": {
        "colab": {
          "base_uri": "https://localhost:8080/"
        },
        "id": "KwHaP-TRUXKx",
        "outputId": "2662ff36-7b3c-42a6-95ef-77feecb9e194"
      },
      "execution_count": null,
      "outputs": [
        {
          "output_type": "stream",
          "name": "stdout",
          "text": [
            "<class 'pandas.core.frame.DataFrame'>\n",
            "RangeIndex: 1556 entries, 0 to 1555\n",
            "Data columns (total 8 columns):\n",
            " #   Column      Non-Null Count  Dtype  \n",
            "---  ------      --------------  -----  \n",
            " 0   Date        1556 non-null   object \n",
            " 1   Open        1556 non-null   float64\n",
            " 2   High        1556 non-null   float64\n",
            " 3   Low         1556 non-null   float64\n",
            " 4   Close       1556 non-null   float64\n",
            " 5   Volume      1556 non-null   object \n",
            " 6   Market Cap  1556 non-null   object \n",
            " 7   close_pred  1556 non-null   float64\n",
            "dtypes: float64(5), object(3)\n",
            "memory usage: 97.4+ KB\n"
          ]
        }
      ]
    },
    {
      "cell_type": "code",
      "source": [
        "len(data[\"close_pred\"].unique())"
      ],
      "metadata": {
        "colab": {
          "base_uri": "https://localhost:8080/"
        },
        "id": "lHSO7hJFPBIp",
        "outputId": "c6f1b1d3-8973-4b4b-eaf9-1290550ef04b"
      },
      "execution_count": null,
      "outputs": [
        {
          "output_type": "execute_result",
          "data": {
            "text/plain": [
              "36"
            ]
          },
          "metadata": {},
          "execution_count": 683
        }
      ]
    },
    {
      "cell_type": "markdown",
      "source": [
        "Shifting Close by 1 to add it as a feature which influences the \"Close_pred\" of the upcoming day"
      ],
      "metadata": {
        "id": "jFjgISdV1lBK"
      }
    },
    {
      "cell_type": "code",
      "source": [
        "data[\"Close\"] = data[\"Close\"].shift(1)\n",
        "data['Close']=data['Close'].fillna(0)"
      ],
      "metadata": {
        "id": "T6D8a9bBPo_l"
      },
      "execution_count": null,
      "outputs": []
    },
    {
      "cell_type": "code",
      "source": [
        "data.head()"
      ],
      "metadata": {
        "colab": {
          "base_uri": "https://localhost:8080/",
          "height": 206
        },
        "id": "7evv6Ib5P-Qo",
        "outputId": "227296c3-871f-4dbb-d3c4-1c5b617ebf79"
      },
      "execution_count": null,
      "outputs": [
        {
          "output_type": "execute_result",
          "data": {
            "text/plain": [
              "   Open  High  Low    Close  Volume  Market Cap  close_pred\n",
              "0   300   296  312     0.00     108         291        36.0\n",
              "1   296   284  301  2875.34      97         287        35.0\n",
              "2   301   290  309  2757.18     106         293        35.0\n",
              "3   290   297  307  2726.45     150         283        36.0\n",
              "4   278   282  293  2809.01     104         272        34.0"
            ],
            "text/html": [
              "\n",
              "  <div id=\"df-79f07715-5635-46a2-841e-5b52a8667001\">\n",
              "    <div class=\"colab-df-container\">\n",
              "      <div>\n",
              "<style scoped>\n",
              "    .dataframe tbody tr th:only-of-type {\n",
              "        vertical-align: middle;\n",
              "    }\n",
              "\n",
              "    .dataframe tbody tr th {\n",
              "        vertical-align: top;\n",
              "    }\n",
              "\n",
              "    .dataframe thead th {\n",
              "        text-align: right;\n",
              "    }\n",
              "</style>\n",
              "<table border=\"1\" class=\"dataframe\">\n",
              "  <thead>\n",
              "    <tr style=\"text-align: right;\">\n",
              "      <th></th>\n",
              "      <th>Open</th>\n",
              "      <th>High</th>\n",
              "      <th>Low</th>\n",
              "      <th>Close</th>\n",
              "      <th>Volume</th>\n",
              "      <th>Market Cap</th>\n",
              "      <th>close_pred</th>\n",
              "    </tr>\n",
              "  </thead>\n",
              "  <tbody>\n",
              "    <tr>\n",
              "      <th>0</th>\n",
              "      <td>300</td>\n",
              "      <td>296</td>\n",
              "      <td>312</td>\n",
              "      <td>0.00</td>\n",
              "      <td>108</td>\n",
              "      <td>291</td>\n",
              "      <td>36.0</td>\n",
              "    </tr>\n",
              "    <tr>\n",
              "      <th>1</th>\n",
              "      <td>296</td>\n",
              "      <td>284</td>\n",
              "      <td>301</td>\n",
              "      <td>2875.34</td>\n",
              "      <td>97</td>\n",
              "      <td>287</td>\n",
              "      <td>35.0</td>\n",
              "    </tr>\n",
              "    <tr>\n",
              "      <th>2</th>\n",
              "      <td>301</td>\n",
              "      <td>290</td>\n",
              "      <td>309</td>\n",
              "      <td>2757.18</td>\n",
              "      <td>106</td>\n",
              "      <td>293</td>\n",
              "      <td>35.0</td>\n",
              "    </tr>\n",
              "    <tr>\n",
              "      <th>3</th>\n",
              "      <td>290</td>\n",
              "      <td>297</td>\n",
              "      <td>307</td>\n",
              "      <td>2726.45</td>\n",
              "      <td>150</td>\n",
              "      <td>283</td>\n",
              "      <td>36.0</td>\n",
              "    </tr>\n",
              "    <tr>\n",
              "      <th>4</th>\n",
              "      <td>278</td>\n",
              "      <td>282</td>\n",
              "      <td>293</td>\n",
              "      <td>2809.01</td>\n",
              "      <td>104</td>\n",
              "      <td>272</td>\n",
              "      <td>34.0</td>\n",
              "    </tr>\n",
              "  </tbody>\n",
              "</table>\n",
              "</div>\n",
              "      <button class=\"colab-df-convert\" onclick=\"convertToInteractive('df-79f07715-5635-46a2-841e-5b52a8667001')\"\n",
              "              title=\"Convert this dataframe to an interactive table.\"\n",
              "              style=\"display:none;\">\n",
              "        \n",
              "  <svg xmlns=\"http://www.w3.org/2000/svg\" height=\"24px\"viewBox=\"0 0 24 24\"\n",
              "       width=\"24px\">\n",
              "    <path d=\"M0 0h24v24H0V0z\" fill=\"none\"/>\n",
              "    <path d=\"M18.56 5.44l.94 2.06.94-2.06 2.06-.94-2.06-.94-.94-2.06-.94 2.06-2.06.94zm-11 1L8.5 8.5l.94-2.06 2.06-.94-2.06-.94L8.5 2.5l-.94 2.06-2.06.94zm10 10l.94 2.06.94-2.06 2.06-.94-2.06-.94-.94-2.06-.94 2.06-2.06.94z\"/><path d=\"M17.41 7.96l-1.37-1.37c-.4-.4-.92-.59-1.43-.59-.52 0-1.04.2-1.43.59L10.3 9.45l-7.72 7.72c-.78.78-.78 2.05 0 2.83L4 21.41c.39.39.9.59 1.41.59.51 0 1.02-.2 1.41-.59l7.78-7.78 2.81-2.81c.8-.78.8-2.07 0-2.86zM5.41 20L4 18.59l7.72-7.72 1.47 1.35L5.41 20z\"/>\n",
              "  </svg>\n",
              "      </button>\n",
              "      \n",
              "  <style>\n",
              "    .colab-df-container {\n",
              "      display:flex;\n",
              "      flex-wrap:wrap;\n",
              "      gap: 12px;\n",
              "    }\n",
              "\n",
              "    .colab-df-convert {\n",
              "      background-color: #E8F0FE;\n",
              "      border: none;\n",
              "      border-radius: 50%;\n",
              "      cursor: pointer;\n",
              "      display: none;\n",
              "      fill: #1967D2;\n",
              "      height: 32px;\n",
              "      padding: 0 0 0 0;\n",
              "      width: 32px;\n",
              "    }\n",
              "\n",
              "    .colab-df-convert:hover {\n",
              "      background-color: #E2EBFA;\n",
              "      box-shadow: 0px 1px 2px rgba(60, 64, 67, 0.3), 0px 1px 3px 1px rgba(60, 64, 67, 0.15);\n",
              "      fill: #174EA6;\n",
              "    }\n",
              "\n",
              "    [theme=dark] .colab-df-convert {\n",
              "      background-color: #3B4455;\n",
              "      fill: #D2E3FC;\n",
              "    }\n",
              "\n",
              "    [theme=dark] .colab-df-convert:hover {\n",
              "      background-color: #434B5C;\n",
              "      box-shadow: 0px 1px 3px 1px rgba(0, 0, 0, 0.15);\n",
              "      filter: drop-shadow(0px 1px 2px rgba(0, 0, 0, 0.3));\n",
              "      fill: #FFFFFF;\n",
              "    }\n",
              "  </style>\n",
              "\n",
              "      <script>\n",
              "        const buttonEl =\n",
              "          document.querySelector('#df-79f07715-5635-46a2-841e-5b52a8667001 button.colab-df-convert');\n",
              "        buttonEl.style.display =\n",
              "          google.colab.kernel.accessAllowed ? 'block' : 'none';\n",
              "\n",
              "        async function convertToInteractive(key) {\n",
              "          const element = document.querySelector('#df-79f07715-5635-46a2-841e-5b52a8667001');\n",
              "          const dataTable =\n",
              "            await google.colab.kernel.invokeFunction('convertToInteractive',\n",
              "                                                     [key], {});\n",
              "          if (!dataTable) return;\n",
              "\n",
              "          const docLinkHtml = 'Like what you see? Visit the ' +\n",
              "            '<a target=\"_blank\" href=https://colab.research.google.com/notebooks/data_table.ipynb>data table notebook</a>'\n",
              "            + ' to learn more about interactive tables.';\n",
              "          element.innerHTML = '';\n",
              "          dataTable['output_type'] = 'display_data';\n",
              "          await google.colab.output.renderOutput(dataTable, element);\n",
              "          const docLink = document.createElement('div');\n",
              "          docLink.innerHTML = docLinkHtml;\n",
              "          element.appendChild(docLink);\n",
              "        }\n",
              "      </script>\n",
              "    </div>\n",
              "  </div>\n",
              "  "
            ]
          },
          "metadata": {},
          "execution_count": 786
        }
      ]
    },
    {
      "cell_type": "markdown",
      "source": [
        "Converting \"Voume\" & \"Market Cap\" from \"Object\" type to \"float\" type."
      ],
      "metadata": {
        "id": "aUCDrWyb10RB"
      }
    },
    {
      "cell_type": "code",
      "source": [
        "data[\"Market Cap\"] = [float(str(i).replace(\",\", \"\")) for i in data[\"Market Cap\"]]\n",
        "data[\"Volume\"] = [str(i).replace(\",\", \"\") for i in data[\"Volume\"]]"
      ],
      "metadata": {
        "id": "IjPHAM8AXvoJ"
      },
      "execution_count": null,
      "outputs": []
    },
    {
      "cell_type": "code",
      "source": [
        "data[\"Volume\"] = [str(i).replace(\"-\", \"0\") for i in data[\"Volume\"]]\n",
        "data[\"Volume\"] = [float(str(i).replace(\",\", \"\")) for i in data[\"Volume\"]]"
      ],
      "metadata": {
        "id": "rNQalDw4YtUm"
      },
      "execution_count": null,
      "outputs": []
    },
    {
      "cell_type": "code",
      "source": [
        "data = data.drop(columns=[\"Date\"])\n"
      ],
      "metadata": {
        "id": "i8PSAxyHZvLe"
      },
      "execution_count": null,
      "outputs": []
    },
    {
      "cell_type": "code",
      "source": [
        "data.head()"
      ],
      "metadata": {
        "colab": {
          "base_uri": "https://localhost:8080/",
          "height": 206
        },
        "id": "I3hZRXyraVKI",
        "outputId": "513fef06-d534-4f82-f725-3b7a9cb4d11a"
      },
      "execution_count": null,
      "outputs": [
        {
          "output_type": "execute_result",
          "data": {
            "text/plain": [
              "   Open  High  Low    Close  Volume  Market Cap  close_pred\n",
              "0   300   296  312     0.00     108         291        36.0\n",
              "1   296   284  301  2875.34      97         287        35.0\n",
              "2   301   290  309  2757.18     106         293        35.0\n",
              "3   290   297  307  2726.45     150         283        36.0\n",
              "4   278   282  293  2809.01     104         272        34.0"
            ],
            "text/html": [
              "\n",
              "  <div id=\"df-187877a2-e56d-4c78-bc76-3eaa4fd0caf1\">\n",
              "    <div class=\"colab-df-container\">\n",
              "      <div>\n",
              "<style scoped>\n",
              "    .dataframe tbody tr th:only-of-type {\n",
              "        vertical-align: middle;\n",
              "    }\n",
              "\n",
              "    .dataframe tbody tr th {\n",
              "        vertical-align: top;\n",
              "    }\n",
              "\n",
              "    .dataframe thead th {\n",
              "        text-align: right;\n",
              "    }\n",
              "</style>\n",
              "<table border=\"1\" class=\"dataframe\">\n",
              "  <thead>\n",
              "    <tr style=\"text-align: right;\">\n",
              "      <th></th>\n",
              "      <th>Open</th>\n",
              "      <th>High</th>\n",
              "      <th>Low</th>\n",
              "      <th>Close</th>\n",
              "      <th>Volume</th>\n",
              "      <th>Market Cap</th>\n",
              "      <th>close_pred</th>\n",
              "    </tr>\n",
              "  </thead>\n",
              "  <tbody>\n",
              "    <tr>\n",
              "      <th>0</th>\n",
              "      <td>300</td>\n",
              "      <td>296</td>\n",
              "      <td>312</td>\n",
              "      <td>0.00</td>\n",
              "      <td>108</td>\n",
              "      <td>291</td>\n",
              "      <td>36.0</td>\n",
              "    </tr>\n",
              "    <tr>\n",
              "      <th>1</th>\n",
              "      <td>296</td>\n",
              "      <td>284</td>\n",
              "      <td>301</td>\n",
              "      <td>2875.34</td>\n",
              "      <td>97</td>\n",
              "      <td>287</td>\n",
              "      <td>35.0</td>\n",
              "    </tr>\n",
              "    <tr>\n",
              "      <th>2</th>\n",
              "      <td>301</td>\n",
              "      <td>290</td>\n",
              "      <td>309</td>\n",
              "      <td>2757.18</td>\n",
              "      <td>106</td>\n",
              "      <td>293</td>\n",
              "      <td>35.0</td>\n",
              "    </tr>\n",
              "    <tr>\n",
              "      <th>3</th>\n",
              "      <td>290</td>\n",
              "      <td>297</td>\n",
              "      <td>307</td>\n",
              "      <td>2726.45</td>\n",
              "      <td>150</td>\n",
              "      <td>283</td>\n",
              "      <td>36.0</td>\n",
              "    </tr>\n",
              "    <tr>\n",
              "      <th>4</th>\n",
              "      <td>278</td>\n",
              "      <td>282</td>\n",
              "      <td>293</td>\n",
              "      <td>2809.01</td>\n",
              "      <td>104</td>\n",
              "      <td>272</td>\n",
              "      <td>34.0</td>\n",
              "    </tr>\n",
              "  </tbody>\n",
              "</table>\n",
              "</div>\n",
              "      <button class=\"colab-df-convert\" onclick=\"convertToInteractive('df-187877a2-e56d-4c78-bc76-3eaa4fd0caf1')\"\n",
              "              title=\"Convert this dataframe to an interactive table.\"\n",
              "              style=\"display:none;\">\n",
              "        \n",
              "  <svg xmlns=\"http://www.w3.org/2000/svg\" height=\"24px\"viewBox=\"0 0 24 24\"\n",
              "       width=\"24px\">\n",
              "    <path d=\"M0 0h24v24H0V0z\" fill=\"none\"/>\n",
              "    <path d=\"M18.56 5.44l.94 2.06.94-2.06 2.06-.94-2.06-.94-.94-2.06-.94 2.06-2.06.94zm-11 1L8.5 8.5l.94-2.06 2.06-.94-2.06-.94L8.5 2.5l-.94 2.06-2.06.94zm10 10l.94 2.06.94-2.06 2.06-.94-2.06-.94-.94-2.06-.94 2.06-2.06.94z\"/><path d=\"M17.41 7.96l-1.37-1.37c-.4-.4-.92-.59-1.43-.59-.52 0-1.04.2-1.43.59L10.3 9.45l-7.72 7.72c-.78.78-.78 2.05 0 2.83L4 21.41c.39.39.9.59 1.41.59.51 0 1.02-.2 1.41-.59l7.78-7.78 2.81-2.81c.8-.78.8-2.07 0-2.86zM5.41 20L4 18.59l7.72-7.72 1.47 1.35L5.41 20z\"/>\n",
              "  </svg>\n",
              "      </button>\n",
              "      \n",
              "  <style>\n",
              "    .colab-df-container {\n",
              "      display:flex;\n",
              "      flex-wrap:wrap;\n",
              "      gap: 12px;\n",
              "    }\n",
              "\n",
              "    .colab-df-convert {\n",
              "      background-color: #E8F0FE;\n",
              "      border: none;\n",
              "      border-radius: 50%;\n",
              "      cursor: pointer;\n",
              "      display: none;\n",
              "      fill: #1967D2;\n",
              "      height: 32px;\n",
              "      padding: 0 0 0 0;\n",
              "      width: 32px;\n",
              "    }\n",
              "\n",
              "    .colab-df-convert:hover {\n",
              "      background-color: #E2EBFA;\n",
              "      box-shadow: 0px 1px 2px rgba(60, 64, 67, 0.3), 0px 1px 3px 1px rgba(60, 64, 67, 0.15);\n",
              "      fill: #174EA6;\n",
              "    }\n",
              "\n",
              "    [theme=dark] .colab-df-convert {\n",
              "      background-color: #3B4455;\n",
              "      fill: #D2E3FC;\n",
              "    }\n",
              "\n",
              "    [theme=dark] .colab-df-convert:hover {\n",
              "      background-color: #434B5C;\n",
              "      box-shadow: 0px 1px 3px 1px rgba(0, 0, 0, 0.15);\n",
              "      filter: drop-shadow(0px 1px 2px rgba(0, 0, 0, 0.3));\n",
              "      fill: #FFFFFF;\n",
              "    }\n",
              "  </style>\n",
              "\n",
              "      <script>\n",
              "        const buttonEl =\n",
              "          document.querySelector('#df-187877a2-e56d-4c78-bc76-3eaa4fd0caf1 button.colab-df-convert');\n",
              "        buttonEl.style.display =\n",
              "          google.colab.kernel.accessAllowed ? 'block' : 'none';\n",
              "\n",
              "        async function convertToInteractive(key) {\n",
              "          const element = document.querySelector('#df-187877a2-e56d-4c78-bc76-3eaa4fd0caf1');\n",
              "          const dataTable =\n",
              "            await google.colab.kernel.invokeFunction('convertToInteractive',\n",
              "                                                     [key], {});\n",
              "          if (!dataTable) return;\n",
              "\n",
              "          const docLinkHtml = 'Like what you see? Visit the ' +\n",
              "            '<a target=\"_blank\" href=https://colab.research.google.com/notebooks/data_table.ipynb>data table notebook</a>'\n",
              "            + ' to learn more about interactive tables.';\n",
              "          element.innerHTML = '';\n",
              "          dataTable['output_type'] = 'display_data';\n",
              "          await google.colab.output.renderOutput(dataTable, element);\n",
              "          const docLink = document.createElement('div');\n",
              "          docLink.innerHTML = docLinkHtml;\n",
              "          element.appendChild(docLink);\n",
              "        }\n",
              "      </script>\n",
              "    </div>\n",
              "  </div>\n",
              "  "
            ]
          },
          "metadata": {},
          "execution_count": 787
        }
      ]
    },
    {
      "cell_type": "markdown",
      "source": [
        "Converting \"High\", \"Low\",\"Open\", \"Volume\", \"Market Cap\" into categorical data with n_nins = 600"
      ],
      "metadata": {
        "id": "EDFnIMAS2Qol"
      }
    },
    {
      "cell_type": "code",
      "source": [
        "from sklearn.preprocessing import LabelEncoder\n",
        "\n",
        "n_bins = 600\n",
        "label_encoder = LabelEncoder()\n",
        "\n",
        "data[\"Open\"] = label_encoder.fit_transform(pd.cut(data['Open'], n_bins, retbins=True)[0])"
      ],
      "metadata": {
        "id": "Vng0QlyAZ5YC"
      },
      "execution_count": null,
      "outputs": []
    },
    {
      "cell_type": "code",
      "source": [
        "len(data[\"Open\"].unique())"
      ],
      "metadata": {
        "colab": {
          "base_uri": "https://localhost:8080/"
        },
        "id": "bh8kXCmsa_F4",
        "outputId": "229cadde-eca3-4805-defe-147cd07f8928"
      },
      "execution_count": null,
      "outputs": [
        {
          "output_type": "execute_result",
          "data": {
            "text/plain": [
              "307"
            ]
          },
          "metadata": {},
          "execution_count": 691
        }
      ]
    },
    {
      "cell_type": "code",
      "source": [
        "data[\"High\"] = label_encoder.fit_transform(pd.cut(data['High'], n_bins, retbins=True)[0])\n",
        "data[\"Low\"] = label_encoder.fit_transform(pd.cut(data['Low'], n_bins, retbins=True)[0])\n",
        "data[\"Volume\"] = label_encoder.fit_transform(pd.cut(data['Volume'], n_bins, retbins=True)[0])\n",
        "data[\"Market Cap\"] = label_encoder.fit_transform(pd.cut(data['Market Cap'], n_bins, retbins=True)[0])"
      ],
      "metadata": {
        "id": "3VnpSEbpbWQK"
      },
      "execution_count": null,
      "outputs": []
    },
    {
      "cell_type": "code",
      "source": [
        "print(len(data[\"High\"].unique()))\n",
        "print(len(data[\"Low\"].unique()))\n",
        "print(len(data[\"Volume\"].unique()))\n",
        "print(len(data[\"Market Cap\"].unique()))"
      ],
      "metadata": {
        "colab": {
          "base_uri": "https://localhost:8080/"
        },
        "id": "n-qmd1AXbsUo",
        "outputId": "fbcb1ac5-10b8-434f-8efa-5baaeb178079"
      },
      "execution_count": null,
      "outputs": [
        {
          "output_type": "stream",
          "name": "stdout",
          "text": [
            "302\n",
            "316\n",
            "175\n",
            "299\n"
          ]
        }
      ]
    },
    {
      "cell_type": "markdown",
      "source": [
        "Split the data into test & train"
      ],
      "metadata": {
        "id": "86hke2ZY2TFH"
      }
    },
    {
      "cell_type": "code",
      "source": [
        "from sklearn.model_selection import train_test_split as tts\n",
        "from sklearn.tree import DecisionTreeClassifier as DTC\n",
        "\n",
        "Y = data.close_pred.astype('int')\n",
        "X_data = data.drop(columns = [\"Volume\"])\n",
        "X = X_data\n",
        "user_prompt = 0.3\n",
        "user_enable = False\n",
        "x_train,x_test,y_train,y_test = tts(X,Y,test_size=user_prompt,shuffle=user_enable)"
      ],
      "metadata": {
        "id": "8q8tOXSac76q"
      },
      "execution_count": null,
      "outputs": []
    },
    {
      "cell_type": "code",
      "source": [
        "y_df = pd.DataFrame(y_test, columns = ['tst'])\n",
        "y_ts = []\n",
        "for i in range(len(y_df)):\n",
        "   k = (y_df['tst'][i]*80)\n",
        "   y_ts.append(k)\n",
        "len(y_ts)"
      ],
      "metadata": {
        "colab": {
          "base_uri": "https://localhost:8080/"
        },
        "outputId": "991c8821-ceb9-4ff4-856c-831b8e7142dd",
        "id": "opLGFmJZOJer"
      },
      "execution_count": null,
      "outputs": [
        {
          "output_type": "execute_result",
          "data": {
            "text/plain": [
              "467"
            ]
          },
          "metadata": {},
          "execution_count": 715
        }
      ]
    },
    {
      "cell_type": "markdown",
      "source": [
        "Plot of Y_test\n"
      ],
      "metadata": {
        "id": "Vng9BUbx1PAj"
      }
    },
    {
      "cell_type": "code",
      "source": [
        "import numpy as np\n",
        "import matplotlib.pyplot as plt\n",
        "x = range(467)\n",
        "y = y_ts\n",
        "plt.plot(x,y)\n",
        "plt.show()"
      ],
      "metadata": {
        "colab": {
          "base_uri": "https://localhost:8080/",
          "height": 265
        },
        "outputId": "c4b108c2-8fff-4c3c-c465-22cf73b02bc2",
        "id": "mZo639PoOopg"
      },
      "execution_count": null,
      "outputs": [
        {
          "output_type": "display_data",
          "data": {
            "text/plain": [
              "<Figure size 432x288 with 1 Axes>"
            ],
            "image/png": "[encoded data removed]"
          },
          "metadata": {}
        }
      ]
    },
    {
      "cell_type": "markdown",
      "source": [
        "#1) Decision Tree Classifier"
      ],
      "metadata": {
        "id": "_xEDAXFmqSm0"
      }
    },
    {
      "cell_type": "code",
      "source": [
        "decision_model = DTC()\n",
        "decision_model.fit(x_train,y_train)\n",
        "decision_pred = decision_model.predict(x_test)"
      ],
      "metadata": {
        "id": "M74A0RHkp5L7"
      },
      "execution_count": null,
      "outputs": []
    },
    {
      "cell_type": "code",
      "source": [
        "from sklearn.metrics import confusion_matrix as cm\n",
        "from sklearn.metrics import precision_score as ps\n",
        "from sklearn.metrics import recall_score as rs\n",
        "from sklearn.metrics import f1_score as f1s\n",
        "from sklearn.metrics import accuracy_score as acc\n",
        "inbuilt_acc_decision = acc(y_test,decision_pred)\n",
        "print(\"Accuracy for Descision Tree-based =>\", str(inbuilt_acc_decision*100)+\"%\")"
      ],
      "metadata": {
        "colab": {
          "base_uri": "https://localhost:8080/"
        },
        "id": "l8I4-jyXcSs6",
        "outputId": "12828870-1804-4e25-eaab-d36a01926785"
      },
      "execution_count": null,
      "outputs": [
        {
          "output_type": "stream",
          "name": "stdout",
          "text": [
            "Accuracy for Descision Tree-based => 62.74089935760171%\n"
          ]
        }
      ]
    },
    {
      "cell_type": "code",
      "source": [
        "from sklearn.metrics import classification_report\n",
        "print(classification_report(y_test, decision_pred))"
      ],
      "metadata": {
        "colab": {
          "base_uri": "https://localhost:8080/"
        },
        "id": "cwATysQUZM08",
        "outputId": "8702b0cf-f13c-4b22-bb18-cd5c6aa825f2"
      },
      "execution_count": null,
      "outputs": [
        {
          "output_type": "stream",
          "name": "stdout",
          "text": [
            "              precision    recall  f1-score   support\n",
            "\n",
            "           1       0.00      0.00      0.00         6\n",
            "           2       0.00      0.00      0.00       168\n",
            "           3       0.09      1.00      0.16        17\n",
            "           4       1.00      1.00      1.00         3\n",
            "           5       1.00      1.00      1.00         6\n",
            "           6       1.00      1.00      1.00        46\n",
            "           7       1.00      1.00      1.00        23\n",
            "           8       1.00      1.00      1.00        99\n",
            "           9       1.00      1.00      1.00        32\n",
            "          10       1.00      1.00      1.00        16\n",
            "          11       1.00      1.00      1.00        34\n",
            "          12       1.00      1.00      1.00         8\n",
            "          13       1.00      1.00      1.00         3\n",
            "          14       1.00      1.00      1.00         3\n",
            "          15       1.00      1.00      1.00         3\n",
            "\n",
            "    accuracy                           0.63       467\n",
            "   macro avg       0.81      0.87      0.81       467\n",
            "weighted avg       0.59      0.63      0.60       467\n",
            "\n"
          ]
        },
        {
          "output_type": "stream",
          "name": "stderr",
          "text": [
            "/usr/local/lib/python3.7/dist-packages/sklearn/metrics/_classification.py:1318: UndefinedMetricWarning: Precision and F-score are ill-defined and being set to 0.0 in labels with no predicted samples. Use `zero_division` parameter to control this behavior.\n",
            "  _warn_prf(average, modifier, msg_start, len(result))\n",
            "/usr/local/lib/python3.7/dist-packages/sklearn/metrics/_classification.py:1318: UndefinedMetricWarning: Precision and F-score are ill-defined and being set to 0.0 in labels with no predicted samples. Use `zero_division` parameter to control this behavior.\n",
            "  _warn_prf(average, modifier, msg_start, len(result))\n",
            "/usr/local/lib/python3.7/dist-packages/sklearn/metrics/_classification.py:1318: UndefinedMetricWarning: Precision and F-score are ill-defined and being set to 0.0 in labels with no predicted samples. Use `zero_division` parameter to control this behavior.\n",
            "  _warn_prf(average, modifier, msg_start, len(result))\n"
          ]
        }
      ]
    },
    {
      "cell_type": "code",
      "source": [
        "y1 = []\n",
        "for i in range(len(decision_pred)):\n",
        "   k = (decision_pred[i]*80)\n",
        "   y1.append(k)\n",
        "len(y1)"
      ],
      "metadata": {
        "colab": {
          "base_uri": "https://localhost:8080/"
        },
        "outputId": "832bc652-2107-47ff-cccb-00a25d34cc25",
        "id": "lgS61zr9RuHG"
      },
      "execution_count": null,
      "outputs": [
        {
          "output_type": "execute_result",
          "data": {
            "text/plain": [
              "467"
            ]
          },
          "metadata": {},
          "execution_count": 773
        }
      ]
    },
    {
      "cell_type": "markdown",
      "source": [
        "PLot of Y_test & Predicted Y for DTC"
      ],
      "metadata": {
        "id": "8XsaSWZU2nZC"
      }
    },
    {
      "cell_type": "code",
      "source": [
        "import numpy as np\n",
        "import matplotlib.pyplot as plt\n",
        "x = range(467)\n",
        "y = y1\n",
        "y2 = y_ts\n",
        "plt.plot(x,y,y2)\n",
        "plt.show()"
      ],
      "metadata": {
        "id": "oOvW2-HBJ4-_",
        "colab": {
          "base_uri": "https://localhost:8080/",
          "height": 265
        },
        "outputId": "381cfa60-69d4-419a-8417-e76172ff76a1"
      },
      "execution_count": null,
      "outputs": [
        {
          "output_type": "display_data",
          "data": {
            "text/plain": [
              "<Figure size 432x288 with 1 Axes>"
            ],
            "image/png": "[encoded data removed]"
          },
          "metadata": {}
        }
      ]
    },
    {
      "cell_type": "markdown",
      "source": [
        "#2) XGB"
      ],
      "metadata": {
        "id": "395zR0oiqaGX"
      }
    },
    {
      "cell_type": "code",
      "source": [
        "from xgboost import XGBClassifier as xgb\n",
        "\n",
        "mod = xgb()\n",
        "mod.fit(x_train,y_train)\n",
        "y_pred = mod.predict(x_test)"
      ],
      "metadata": {
        "id": "N_1docl3dR3y"
      },
      "execution_count": null,
      "outputs": []
    },
    {
      "cell_type": "code",
      "source": [
        "accr = acc(y_test,y_pred)\n",
        "print(accr*100)"
      ],
      "metadata": {
        "colab": {
          "base_uri": "https://localhost:8080/"
        },
        "id": "Zw43AmZbdXhr",
        "outputId": "ad291c57-5519-42e4-ccf6-dd12eab01853"
      },
      "execution_count": null,
      "outputs": [
        {
          "output_type": "stream",
          "name": "stdout",
          "text": [
            "61.88436830835118\n"
          ]
        }
      ]
    },
    {
      "cell_type": "code",
      "source": [
        "from sklearn.metrics import classification_report\n",
        "print(classification_report(y_test, y_pred))"
      ],
      "metadata": {
        "colab": {
          "base_uri": "https://localhost:8080/"
        },
        "outputId": "ed325dc8-188a-4996-aa89-9c975f1ed882",
        "id": "nlYQMRnxo6hH"
      },
      "execution_count": null,
      "outputs": [
        {
          "output_type": "stream",
          "name": "stdout",
          "text": [
            "              precision    recall  f1-score   support\n",
            "\n",
            "           1       0.00      0.00      0.00         6\n",
            "           2       0.00      0.00      0.00       168\n",
            "           3       0.09      1.00      0.16        17\n",
            "           4       1.00      1.00      1.00         3\n",
            "           5       1.00      1.00      1.00         6\n",
            "           6       1.00      1.00      1.00        46\n",
            "           7       1.00      1.00      1.00        23\n",
            "           8       1.00      1.00      1.00        99\n",
            "           9       1.00      1.00      1.00        32\n",
            "          10       0.84      1.00      0.91        16\n",
            "          11       1.00      0.88      0.94        34\n",
            "          12       0.89      1.00      0.94         8\n",
            "          13       1.00      1.00      1.00         3\n",
            "          14       1.00      1.00      1.00         3\n",
            "          15       1.00      1.00      1.00         3\n",
            "\n",
            "    accuracy                           0.62       467\n",
            "   macro avg       0.79      0.86      0.80       467\n",
            "weighted avg       0.59      0.62      0.59       467\n",
            "\n"
          ]
        },
        {
          "output_type": "stream",
          "name": "stderr",
          "text": [
            "/usr/local/lib/python3.7/dist-packages/sklearn/metrics/_classification.py:1318: UndefinedMetricWarning: Precision and F-score are ill-defined and being set to 0.0 in labels with no predicted samples. Use `zero_division` parameter to control this behavior.\n",
            "  _warn_prf(average, modifier, msg_start, len(result))\n",
            "/usr/local/lib/python3.7/dist-packages/sklearn/metrics/_classification.py:1318: UndefinedMetricWarning: Precision and F-score are ill-defined and being set to 0.0 in labels with no predicted samples. Use `zero_division` parameter to control this behavior.\n",
            "  _warn_prf(average, modifier, msg_start, len(result))\n",
            "/usr/local/lib/python3.7/dist-packages/sklearn/metrics/_classification.py:1318: UndefinedMetricWarning: Precision and F-score are ill-defined and being set to 0.0 in labels with no predicted samples. Use `zero_division` parameter to control this behavior.\n",
            "  _warn_prf(average, modifier, msg_start, len(result))\n"
          ]
        }
      ]
    },
    {
      "cell_type": "code",
      "source": [
        "y2 = []\n",
        "for i in range(len(y_pred)):\n",
        "   k = (y_pred[i]*80)\n",
        "   y2.append(k)\n",
        "len(y2)"
      ],
      "metadata": {
        "id": "G5qhpDoNJaf4",
        "colab": {
          "base_uri": "https://localhost:8080/"
        },
        "outputId": "eeeb6ccf-3657-4a31-be72-b530c31a50fd"
      },
      "execution_count": null,
      "outputs": [
        {
          "output_type": "execute_result",
          "data": {
            "text/plain": [
              "467"
            ]
          },
          "metadata": {},
          "execution_count": 778
        }
      ]
    },
    {
      "cell_type": "markdown",
      "source": [
        "PLot of Y_test & Predicted Y for XGB"
      ],
      "metadata": {
        "id": "_QYQOYwU2yZI"
      }
    },
    {
      "cell_type": "code",
      "source": [
        "import numpy as np\n",
        "import matplotlib.pyplot as plt\n",
        "x = range(467)\n",
        "y = y2\n",
        "y_2 = y_ts\n",
        "plt.plot(x,y,y_2)\n",
        "plt.show()"
      ],
      "metadata": {
        "colab": {
          "base_uri": "https://localhost:8080/",
          "height": 265
        },
        "outputId": "1c6ab576-dab1-4893-b479-05021bf28c5a",
        "id": "cdfvI7u5qtQo"
      },
      "execution_count": null,
      "outputs": [
        {
          "output_type": "display_data",
          "data": {
            "text/plain": [
              "<Figure size 432x288 with 1 Axes>"
            ],
            "image/png": "[encoded data removed]"
          },
          "metadata": {}
        }
      ]
    },
    {
      "cell_type": "markdown",
      "source": [
        "#3) LightGBM"
      ],
      "metadata": {
        "id": "vJW8YxebqdgZ"
      }
    },
    {
      "cell_type": "code",
      "source": [
        "from lightgbm import LGBMClassifier as lgb\n",
        "mod1 = lgb()\n",
        "mod1.fit(x_train,y_train) \n",
        "y_pred1 = mod1.predict(x_test)"
      ],
      "metadata": {
        "id": "6MLgppZxn5oR"
      },
      "execution_count": null,
      "outputs": []
    },
    {
      "cell_type": "code",
      "source": [
        "accr2 = acc(y_test,y_pred1)\n",
        "print(accr2*100)"
      ],
      "metadata": {
        "colab": {
          "base_uri": "https://localhost:8080/"
        },
        "outputId": "fdae32db-aec2-4792-f85a-6de1bd50a1fc",
        "id": "PqaaXJrgjeBt"
      },
      "execution_count": null,
      "outputs": [
        {
          "output_type": "stream",
          "name": "stdout",
          "text": [
            "62.74089935760171\n"
          ]
        }
      ]
    },
    {
      "cell_type": "code",
      "source": [
        "from sklearn.metrics import classification_report\n",
        "print(classification_report(y_test, y_pred1))"
      ],
      "metadata": {
        "colab": {
          "base_uri": "https://localhost:8080/"
        },
        "outputId": "253f7267-a97a-4078-c7b6-4e823b2a143b",
        "id": "YTv3QWRAo_mW"
      },
      "execution_count": null,
      "outputs": [
        {
          "output_type": "stream",
          "name": "stdout",
          "text": [
            "              precision    recall  f1-score   support\n",
            "\n",
            "           1       0.00      0.00      0.00         6\n",
            "           2       0.00      0.00      0.00       168\n",
            "           3       0.09      1.00      0.16        17\n",
            "           4       1.00      1.00      1.00         3\n",
            "           5       1.00      1.00      1.00         6\n",
            "           6       1.00      1.00      1.00        46\n",
            "           7       1.00      1.00      1.00        23\n",
            "           8       1.00      1.00      1.00        99\n",
            "           9       1.00      1.00      1.00        32\n",
            "          10       1.00      1.00      1.00        16\n",
            "          11       1.00      1.00      1.00        34\n",
            "          12       1.00      1.00      1.00         8\n",
            "          13       1.00      1.00      1.00         3\n",
            "          14       1.00      1.00      1.00         3\n",
            "          15       1.00      1.00      1.00         3\n",
            "\n",
            "    accuracy                           0.63       467\n",
            "   macro avg       0.81      0.87      0.81       467\n",
            "weighted avg       0.59      0.63      0.60       467\n",
            "\n"
          ]
        },
        {
          "output_type": "stream",
          "name": "stderr",
          "text": [
            "/usr/local/lib/python3.7/dist-packages/sklearn/metrics/_classification.py:1318: UndefinedMetricWarning: Precision and F-score are ill-defined and being set to 0.0 in labels with no predicted samples. Use `zero_division` parameter to control this behavior.\n",
            "  _warn_prf(average, modifier, msg_start, len(result))\n",
            "/usr/local/lib/python3.7/dist-packages/sklearn/metrics/_classification.py:1318: UndefinedMetricWarning: Precision and F-score are ill-defined and being set to 0.0 in labels with no predicted samples. Use `zero_division` parameter to control this behavior.\n",
            "  _warn_prf(average, modifier, msg_start, len(result))\n",
            "/usr/local/lib/python3.7/dist-packages/sklearn/metrics/_classification.py:1318: UndefinedMetricWarning: Precision and F-score are ill-defined and being set to 0.0 in labels with no predicted samples. Use `zero_division` parameter to control this behavior.\n",
            "  _warn_prf(average, modifier, msg_start, len(result))\n"
          ]
        }
      ]
    },
    {
      "cell_type": "code",
      "source": [
        "y3 = []\n",
        "for i in range(len(y_pred1)):\n",
        "   k = (y_pred1[i]*80)\n",
        "   y3.append(k)\n",
        "len(y3)"
      ],
      "metadata": {
        "colab": {
          "base_uri": "https://localhost:8080/"
        },
        "outputId": "8bd54164-924d-4a28-9387-5c7c45637a85",
        "id": "_ptEyyXrq7D3"
      },
      "execution_count": null,
      "outputs": [
        {
          "output_type": "execute_result",
          "data": {
            "text/plain": [
              "467"
            ]
          },
          "metadata": {},
          "execution_count": 780
        }
      ]
    },
    {
      "cell_type": "markdown",
      "source": [
        "PLot of Y_test & Predicted Y for LightGBM"
      ],
      "metadata": {
        "id": "QTeCLhgI20yF"
      }
    },
    {
      "cell_type": "code",
      "source": [
        "x = range(467)\n",
        "y = y3\n",
        "y_2 = y_ts\n",
        "plt.plot(x,y,y_2)\n",
        "plt.show()"
      ],
      "metadata": {
        "colab": {
          "base_uri": "https://localhost:8080/",
          "height": 265
        },
        "outputId": "8bfab05d-636b-4ae4-cf63-ce4449056ccc",
        "id": "TgWchN8frDk8"
      },
      "execution_count": null,
      "outputs": [
        {
          "output_type": "display_data",
          "data": {
            "text/plain": [
              "<Figure size 432x288 with 1 Axes>"
            ],
            "image/png": "[encoded data removed]"
          },
          "metadata": {}
        }
      ]
    },
    {
      "cell_type": "markdown",
      "source": [
        "#4) Random Forest"
      ],
      "metadata": {
        "id": "Ag2_KZFQqkqJ"
      }
    },
    {
      "cell_type": "code",
      "source": [
        "from sklearn.ensemble import RandomForestClassifier as rfc"
      ],
      "metadata": {
        "id": "984AZbfssBco"
      },
      "execution_count": null,
      "outputs": []
    },
    {
      "cell_type": "code",
      "source": [
        "rf = rfc()\n",
        "rf.fit(x_train,y_train)\n",
        "y_pred2 = rf.predict(x_test)"
      ],
      "metadata": {
        "id": "Etk2CS3Onl_r"
      },
      "execution_count": null,
      "outputs": []
    },
    {
      "cell_type": "code",
      "source": [
        "accr3 = acc(y_test,y_pred2)\n",
        "print(accr3*100)"
      ],
      "metadata": {
        "colab": {
          "base_uri": "https://localhost:8080/"
        },
        "outputId": "b1285727-2db5-494c-e019-22e263cdd5fe",
        "id": "R3P1NwAgn3As"
      },
      "execution_count": null,
      "outputs": [
        {
          "output_type": "stream",
          "name": "stdout",
          "text": [
            "61.45610278372591\n"
          ]
        }
      ]
    },
    {
      "cell_type": "code",
      "source": [
        "from sklearn.metrics import classification_report\n",
        "print(classification_report(y_test, y_pred2))"
      ],
      "metadata": {
        "colab": {
          "base_uri": "https://localhost:8080/"
        },
        "outputId": "797251eb-a395-4fe4-ce8a-829f098e13dd",
        "id": "mYFOxp4JpE3V"
      },
      "execution_count": null,
      "outputs": [
        {
          "output_type": "stream",
          "name": "stdout",
          "text": [
            "              precision    recall  f1-score   support\n",
            "\n",
            "           1       0.00      0.00      0.00         6\n",
            "           2       0.00      0.00      0.00       168\n",
            "           3       0.09      1.00      0.16        17\n",
            "           4       1.00      1.00      1.00         3\n",
            "           5       1.00      1.00      1.00         6\n",
            "           6       1.00      1.00      1.00        46\n",
            "           7       1.00      0.87      0.93        23\n",
            "           8       0.97      1.00      0.99        99\n",
            "           9       1.00      1.00      1.00        32\n",
            "          10       1.00      0.94      0.97        16\n",
            "          11       0.94      0.97      0.96        34\n",
            "          12       0.88      0.88      0.88         8\n",
            "          13       1.00      1.00      1.00         3\n",
            "          14       1.00      1.00      1.00         3\n",
            "          15       1.00      1.00      1.00         3\n",
            "\n",
            "    accuracy                           0.61       467\n",
            "   macro avg       0.79      0.84      0.79       467\n",
            "weighted avg       0.58      0.61      0.58       467\n",
            "\n"
          ]
        },
        {
          "output_type": "stream",
          "name": "stderr",
          "text": [
            "/usr/local/lib/python3.7/dist-packages/sklearn/metrics/_classification.py:1318: UndefinedMetricWarning: Precision and F-score are ill-defined and being set to 0.0 in labels with no predicted samples. Use `zero_division` parameter to control this behavior.\n",
            "  _warn_prf(average, modifier, msg_start, len(result))\n",
            "/usr/local/lib/python3.7/dist-packages/sklearn/metrics/_classification.py:1318: UndefinedMetricWarning: Precision and F-score are ill-defined and being set to 0.0 in labels with no predicted samples. Use `zero_division` parameter to control this behavior.\n",
            "  _warn_prf(average, modifier, msg_start, len(result))\n",
            "/usr/local/lib/python3.7/dist-packages/sklearn/metrics/_classification.py:1318: UndefinedMetricWarning: Precision and F-score are ill-defined and being set to 0.0 in labels with no predicted samples. Use `zero_division` parameter to control this behavior.\n",
            "  _warn_prf(average, modifier, msg_start, len(result))\n"
          ]
        }
      ]
    },
    {
      "cell_type": "code",
      "source": [
        "y4 = []\n",
        "for i in range(len(y_pred2)):\n",
        "   k = (y_pred2[i]*80)\n",
        "   y4.append(k)\n",
        "len(y4)"
      ],
      "metadata": {
        "colab": {
          "base_uri": "https://localhost:8080/"
        },
        "outputId": "279e9fbe-4a56-4c2e-b966-728b1d5e5a70",
        "id": "SdqOhyb7rJZi"
      },
      "execution_count": null,
      "outputs": [
        {
          "output_type": "execute_result",
          "data": {
            "text/plain": [
              "467"
            ]
          },
          "metadata": {},
          "execution_count": 783
        }
      ]
    },
    {
      "cell_type": "markdown",
      "source": [
        "PLot of Y_test & Predicted Y for Random Forest"
      ],
      "metadata": {
        "id": "FWIJdzCx23xg"
      }
    },
    {
      "cell_type": "code",
      "source": [
        "x = range(467)\n",
        "y = y4\n",
        "y_2 = y_ts\n",
        "plt.plot(x,y,y_2)\n",
        "plt.show()"
      ],
      "metadata": {
        "colab": {
          "base_uri": "https://localhost:8080/",
          "height": 265
        },
        "outputId": "29d8b1bb-47aa-4d25-c159-14d7d4bb35bb",
        "id": "wMkGJfAcrQFa"
      },
      "execution_count": null,
      "outputs": [
        {
          "output_type": "display_data",
          "data": {
            "text/plain": [
              "<Figure size 432x288 with 1 Axes>"
            ],
            "image/png": "[encoded data removed]"
          },
          "metadata": {}
        }
      ]
    }
  ]
}